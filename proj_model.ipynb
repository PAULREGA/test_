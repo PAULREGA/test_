{
  "nbformat": 4,
  "nbformat_minor": 0,
  "metadata": {
    "colab": {
      "name": "proj_model.ipynb",
      "provenance": [],
      "authorship_tag": "ABX9TyNf0KTMHmz/+HKCNBQar6jU",
      "include_colab_link": true
    },
    "kernelspec": {
      "name": "python3",
      "display_name": "Python 3"
    },
    "language_info": {
      "name": "python"
    }
  },
  "cells": [
    {
      "cell_type": "markdown",
      "metadata": {
        "id": "view-in-github",
        "colab_type": "text"
      },
      "source": [
        "<a href=\"https://colab.research.google.com/github/PAULREGA/test_/blob/master/proj_model.ipynb\" target=\"_parent\"><img src=\"https://colab.research.google.com/assets/colab-badge.svg\" alt=\"Open In Colab\"/></a>"
      ]
    },
    {
      "cell_type": "code",
      "execution_count": 1,
      "metadata": {
        "id": "OqmLO8wc9m67"
      },
      "outputs": [],
      "source": [
        "import pandas as pd\n"
      ]
    },
    {
      "cell_type": "code",
      "source": [
        "df = pd.read_csv('/content/train_FNC.csv')"
      ],
      "metadata": {
        "id": "pqUleKN89-_z"
      },
      "execution_count": 2,
      "outputs": []
    },
    {
      "cell_type": "code",
      "source": [
        "df.head()"
      ],
      "metadata": {
        "colab": {
          "base_uri": "https://localhost:8080/",
          "height": 280
        },
        "id": "TgZQb3ua-FcD",
        "outputId": "3d205478-9cfb-4d89-c72e-ff85d72769fa"
      },
      "execution_count": 3,
      "outputs": [
        {
          "output_type": "execute_result",
          "data": {
            "text/plain": [
              "       Id     FNC1      FNC2     FNC3     FNC4     FNC5      FNC6      FNC7  \\\n",
              "0  120873  0.34312  0.045761 -0.13112  0.15034  0.18082  0.289160  0.069545   \n",
              "1  135376  0.28790  0.102570 -0.32343 -0.22776  0.12328  0.367020 -0.084040   \n",
              "2  139149  0.24585  0.216620 -0.12468 -0.35380  0.16150 -0.002032 -0.133020   \n",
              "3  146791  0.42090  0.331380  0.24453  0.17167  0.59223  0.431050  0.280290   \n",
              "4  153870 -0.14621 -0.468630 -0.52880 -0.50381 -0.51052 -0.029113 -0.015192   \n",
              "\n",
              "       FNC8      FNC9  ...   FNC369    FNC370   FNC371    FNC372    FNC373  \\\n",
              "0 -0.052489  0.124000  ...  0.18743  0.163770  0.17686  0.074728  0.148600   \n",
              "1  0.038793 -0.006287  ...  0.59834 -0.477880  0.26634  0.582940 -0.041272   \n",
              "2 -0.035222  0.259040  ...  0.22866 -0.000816  0.25860  0.280450 -0.644640   \n",
              "3  0.289620  0.356800  ...  0.42881  0.711570  0.56593  0.248560  0.153860   \n",
              "4  0.360170  0.005944  ...  0.41688 -0.435600  0.32104  0.392960 -0.842430   \n",
              "\n",
              "     FNC374   FNC375   FNC376    FNC377   FNC378  \n",
              "0  0.343230  0.17565  0.52035  0.030613  0.30774  \n",
              "1  0.630050  0.70314  0.36383 -0.207880  0.64138  \n",
              "2  0.332440  0.87074 -0.10973 -0.679160  0.32316  \n",
              "3  0.093171  0.62556  0.60391 -0.058301  0.10779  \n",
              "4  0.425080  0.86509 -0.31281 -0.829640  0.24307  \n",
              "\n",
              "[5 rows x 379 columns]"
            ],
            "text/html": [
              "\n",
              "  <div id=\"df-068d2d5a-6d7e-4a57-888d-8ee03d6d700d\">\n",
              "    <div class=\"colab-df-container\">\n",
              "      <div>\n",
              "<style scoped>\n",
              "    .dataframe tbody tr th:only-of-type {\n",
              "        vertical-align: middle;\n",
              "    }\n",
              "\n",
              "    .dataframe tbody tr th {\n",
              "        vertical-align: top;\n",
              "    }\n",
              "\n",
              "    .dataframe thead th {\n",
              "        text-align: right;\n",
              "    }\n",
              "</style>\n",
              "<table border=\"1\" class=\"dataframe\">\n",
              "  <thead>\n",
              "    <tr style=\"text-align: right;\">\n",
              "      <th></th>\n",
              "      <th>Id</th>\n",
              "      <th>FNC1</th>\n",
              "      <th>FNC2</th>\n",
              "      <th>FNC3</th>\n",
              "      <th>FNC4</th>\n",
              "      <th>FNC5</th>\n",
              "      <th>FNC6</th>\n",
              "      <th>FNC7</th>\n",
              "      <th>FNC8</th>\n",
              "      <th>FNC9</th>\n",
              "      <th>...</th>\n",
              "      <th>FNC369</th>\n",
              "      <th>FNC370</th>\n",
              "      <th>FNC371</th>\n",
              "      <th>FNC372</th>\n",
              "      <th>FNC373</th>\n",
              "      <th>FNC374</th>\n",
              "      <th>FNC375</th>\n",
              "      <th>FNC376</th>\n",
              "      <th>FNC377</th>\n",
              "      <th>FNC378</th>\n",
              "    </tr>\n",
              "  </thead>\n",
              "  <tbody>\n",
              "    <tr>\n",
              "      <th>0</th>\n",
              "      <td>120873</td>\n",
              "      <td>0.34312</td>\n",
              "      <td>0.045761</td>\n",
              "      <td>-0.13112</td>\n",
              "      <td>0.15034</td>\n",
              "      <td>0.18082</td>\n",
              "      <td>0.289160</td>\n",
              "      <td>0.069545</td>\n",
              "      <td>-0.052489</td>\n",
              "      <td>0.124000</td>\n",
              "      <td>...</td>\n",
              "      <td>0.18743</td>\n",
              "      <td>0.163770</td>\n",
              "      <td>0.17686</td>\n",
              "      <td>0.074728</td>\n",
              "      <td>0.148600</td>\n",
              "      <td>0.343230</td>\n",
              "      <td>0.17565</td>\n",
              "      <td>0.52035</td>\n",
              "      <td>0.030613</td>\n",
              "      <td>0.30774</td>\n",
              "    </tr>\n",
              "    <tr>\n",
              "      <th>1</th>\n",
              "      <td>135376</td>\n",
              "      <td>0.28790</td>\n",
              "      <td>0.102570</td>\n",
              "      <td>-0.32343</td>\n",
              "      <td>-0.22776</td>\n",
              "      <td>0.12328</td>\n",
              "      <td>0.367020</td>\n",
              "      <td>-0.084040</td>\n",
              "      <td>0.038793</td>\n",
              "      <td>-0.006287</td>\n",
              "      <td>...</td>\n",
              "      <td>0.59834</td>\n",
              "      <td>-0.477880</td>\n",
              "      <td>0.26634</td>\n",
              "      <td>0.582940</td>\n",
              "      <td>-0.041272</td>\n",
              "      <td>0.630050</td>\n",
              "      <td>0.70314</td>\n",
              "      <td>0.36383</td>\n",
              "      <td>-0.207880</td>\n",
              "      <td>0.64138</td>\n",
              "    </tr>\n",
              "    <tr>\n",
              "      <th>2</th>\n",
              "      <td>139149</td>\n",
              "      <td>0.24585</td>\n",
              "      <td>0.216620</td>\n",
              "      <td>-0.12468</td>\n",
              "      <td>-0.35380</td>\n",
              "      <td>0.16150</td>\n",
              "      <td>-0.002032</td>\n",
              "      <td>-0.133020</td>\n",
              "      <td>-0.035222</td>\n",
              "      <td>0.259040</td>\n",
              "      <td>...</td>\n",
              "      <td>0.22866</td>\n",
              "      <td>-0.000816</td>\n",
              "      <td>0.25860</td>\n",
              "      <td>0.280450</td>\n",
              "      <td>-0.644640</td>\n",
              "      <td>0.332440</td>\n",
              "      <td>0.87074</td>\n",
              "      <td>-0.10973</td>\n",
              "      <td>-0.679160</td>\n",
              "      <td>0.32316</td>\n",
              "    </tr>\n",
              "    <tr>\n",
              "      <th>3</th>\n",
              "      <td>146791</td>\n",
              "      <td>0.42090</td>\n",
              "      <td>0.331380</td>\n",
              "      <td>0.24453</td>\n",
              "      <td>0.17167</td>\n",
              "      <td>0.59223</td>\n",
              "      <td>0.431050</td>\n",
              "      <td>0.280290</td>\n",
              "      <td>0.289620</td>\n",
              "      <td>0.356800</td>\n",
              "      <td>...</td>\n",
              "      <td>0.42881</td>\n",
              "      <td>0.711570</td>\n",
              "      <td>0.56593</td>\n",
              "      <td>0.248560</td>\n",
              "      <td>0.153860</td>\n",
              "      <td>0.093171</td>\n",
              "      <td>0.62556</td>\n",
              "      <td>0.60391</td>\n",
              "      <td>-0.058301</td>\n",
              "      <td>0.10779</td>\n",
              "    </tr>\n",
              "    <tr>\n",
              "      <th>4</th>\n",
              "      <td>153870</td>\n",
              "      <td>-0.14621</td>\n",
              "      <td>-0.468630</td>\n",
              "      <td>-0.52880</td>\n",
              "      <td>-0.50381</td>\n",
              "      <td>-0.51052</td>\n",
              "      <td>-0.029113</td>\n",
              "      <td>-0.015192</td>\n",
              "      <td>0.360170</td>\n",
              "      <td>0.005944</td>\n",
              "      <td>...</td>\n",
              "      <td>0.41688</td>\n",
              "      <td>-0.435600</td>\n",
              "      <td>0.32104</td>\n",
              "      <td>0.392960</td>\n",
              "      <td>-0.842430</td>\n",
              "      <td>0.425080</td>\n",
              "      <td>0.86509</td>\n",
              "      <td>-0.31281</td>\n",
              "      <td>-0.829640</td>\n",
              "      <td>0.24307</td>\n",
              "    </tr>\n",
              "  </tbody>\n",
              "</table>\n",
              "<p>5 rows × 379 columns</p>\n",
              "</div>\n",
              "      <button class=\"colab-df-convert\" onclick=\"convertToInteractive('df-068d2d5a-6d7e-4a57-888d-8ee03d6d700d')\"\n",
              "              title=\"Convert this dataframe to an interactive table.\"\n",
              "              style=\"display:none;\">\n",
              "        \n",
              "  <svg xmlns=\"http://www.w3.org/2000/svg\" height=\"24px\"viewBox=\"0 0 24 24\"\n",
              "       width=\"24px\">\n",
              "    <path d=\"M0 0h24v24H0V0z\" fill=\"none\"/>\n",
              "    <path d=\"M18.56 5.44l.94 2.06.94-2.06 2.06-.94-2.06-.94-.94-2.06-.94 2.06-2.06.94zm-11 1L8.5 8.5l.94-2.06 2.06-.94-2.06-.94L8.5 2.5l-.94 2.06-2.06.94zm10 10l.94 2.06.94-2.06 2.06-.94-2.06-.94-.94-2.06-.94 2.06-2.06.94z\"/><path d=\"M17.41 7.96l-1.37-1.37c-.4-.4-.92-.59-1.43-.59-.52 0-1.04.2-1.43.59L10.3 9.45l-7.72 7.72c-.78.78-.78 2.05 0 2.83L4 21.41c.39.39.9.59 1.41.59.51 0 1.02-.2 1.41-.59l7.78-7.78 2.81-2.81c.8-.78.8-2.07 0-2.86zM5.41 20L4 18.59l7.72-7.72 1.47 1.35L5.41 20z\"/>\n",
              "  </svg>\n",
              "      </button>\n",
              "      \n",
              "  <style>\n",
              "    .colab-df-container {\n",
              "      display:flex;\n",
              "      flex-wrap:wrap;\n",
              "      gap: 12px;\n",
              "    }\n",
              "\n",
              "    .colab-df-convert {\n",
              "      background-color: #E8F0FE;\n",
              "      border: none;\n",
              "      border-radius: 50%;\n",
              "      cursor: pointer;\n",
              "      display: none;\n",
              "      fill: #1967D2;\n",
              "      height: 32px;\n",
              "      padding: 0 0 0 0;\n",
              "      width: 32px;\n",
              "    }\n",
              "\n",
              "    .colab-df-convert:hover {\n",
              "      background-color: #E2EBFA;\n",
              "      box-shadow: 0px 1px 2px rgba(60, 64, 67, 0.3), 0px 1px 3px 1px rgba(60, 64, 67, 0.15);\n",
              "      fill: #174EA6;\n",
              "    }\n",
              "\n",
              "    [theme=dark] .colab-df-convert {\n",
              "      background-color: #3B4455;\n",
              "      fill: #D2E3FC;\n",
              "    }\n",
              "\n",
              "    [theme=dark] .colab-df-convert:hover {\n",
              "      background-color: #434B5C;\n",
              "      box-shadow: 0px 1px 3px 1px rgba(0, 0, 0, 0.15);\n",
              "      filter: drop-shadow(0px 1px 2px rgba(0, 0, 0, 0.3));\n",
              "      fill: #FFFFFF;\n",
              "    }\n",
              "  </style>\n",
              "\n",
              "      <script>\n",
              "        const buttonEl =\n",
              "          document.querySelector('#df-068d2d5a-6d7e-4a57-888d-8ee03d6d700d button.colab-df-convert');\n",
              "        buttonEl.style.display =\n",
              "          google.colab.kernel.accessAllowed ? 'block' : 'none';\n",
              "\n",
              "        async function convertToInteractive(key) {\n",
              "          const element = document.querySelector('#df-068d2d5a-6d7e-4a57-888d-8ee03d6d700d');\n",
              "          const dataTable =\n",
              "            await google.colab.kernel.invokeFunction('convertToInteractive',\n",
              "                                                     [key], {});\n",
              "          if (!dataTable) return;\n",
              "\n",
              "          const docLinkHtml = 'Like what you see? Visit the ' +\n",
              "            '<a target=\"_blank\" href=https://colab.research.google.com/notebooks/data_table.ipynb>data table notebook</a>'\n",
              "            + ' to learn more about interactive tables.';\n",
              "          element.innerHTML = '';\n",
              "          dataTable['output_type'] = 'display_data';\n",
              "          await google.colab.output.renderOutput(dataTable, element);\n",
              "          const docLink = document.createElement('div');\n",
              "          docLink.innerHTML = docLinkHtml;\n",
              "          element.appendChild(docLink);\n",
              "        }\n",
              "      </script>\n",
              "    </div>\n",
              "  </div>\n",
              "  "
            ]
          },
          "metadata": {},
          "execution_count": 3
        }
      ]
    },
    {
      "cell_type": "code",
      "source": [
        "X = df.drop('Id', axis=1)\n",
        "y = df['Id']"
      ],
      "metadata": {
        "id": "cjasg-mj-I6l"
      },
      "execution_count": 5,
      "outputs": []
    },
    {
      "cell_type": "code",
      "source": [
        "from sklearn.model_selection import train_test_split"
      ],
      "metadata": {
        "id": "uUtcrVDI-MLj"
      },
      "execution_count": 6,
      "outputs": []
    },
    {
      "cell_type": "code",
      "source": [
        "X_train, X_test, y_train, y_test = train_test_split(X,y, test_size=0.3, random_state=1234)"
      ],
      "metadata": {
        "id": "0_q4eSh3-Sih"
      },
      "execution_count": 7,
      "outputs": []
    },
    {
      "cell_type": "code",
      "source": [
        "print(X_train.shape, X_test.shape, y_train.shape, y_test.shape)"
      ],
      "metadata": {
        "colab": {
          "base_uri": "https://localhost:8080/"
        },
        "id": "2Z6k7DeL-XJq",
        "outputId": "955e4c45-6754-4c0d-f3f1-c3e5611ef419"
      },
      "execution_count": 8,
      "outputs": [
        {
          "output_type": "stream",
          "name": "stdout",
          "text": [
            "(60, 378) (26, 378) (60,) (26,)\n"
          ]
        }
      ]
    },
    {
      "cell_type": "code",
      "source": [
        "from sklearn.pipeline import make_pipeline\n",
        "from sklearn.linear_model import Ridge, Lasso, ElasticNet\n",
        "from sklearn.ensemble import RandomForestRegressor, GradientBoostingRegressor"
      ],
      "metadata": {
        "id": "K8FWwTqb-XGI"
      },
      "execution_count": 9,
      "outputs": []
    },
    {
      "cell_type": "code",
      "source": [
        "pipelines = {\n",
        "    'rf':make_pipeline(RandomForestRegressor(random_state=1234)),\n",
        "    'gb':make_pipeline(GradientBoostingRegressor(random_state=1234)),\n",
        "    'ridge':make_pipeline(Ridge(random_state=1234)),\n",
        "    'lasso':make_pipeline(Lasso(random_state=1234)),\n",
        "    'enet':make_pipeline(ElasticNet(random_state=1234)),\n",
        "}"
      ],
      "metadata": {
        "id": "pLD9zfdQ-XDA"
      },
      "execution_count": 10,
      "outputs": []
    },
    {
      "cell_type": "code",
      "source": [
        "RandomForestRegressor().get_params()"
      ],
      "metadata": {
        "colab": {
          "base_uri": "https://localhost:8080/"
        },
        "id": "gyb_rnWS-W_4",
        "outputId": "222aa692-d8a1-46b3-82a7-2c55b9d67289"
      },
      "execution_count": 11,
      "outputs": [
        {
          "output_type": "execute_result",
          "data": {
            "text/plain": [
              "{'bootstrap': True,\n",
              " 'ccp_alpha': 0.0,\n",
              " 'criterion': 'squared_error',\n",
              " 'max_depth': None,\n",
              " 'max_features': 'auto',\n",
              " 'max_leaf_nodes': None,\n",
              " 'max_samples': None,\n",
              " 'min_impurity_decrease': 0.0,\n",
              " 'min_samples_leaf': 1,\n",
              " 'min_samples_split': 2,\n",
              " 'min_weight_fraction_leaf': 0.0,\n",
              " 'n_estimators': 100,\n",
              " 'n_jobs': None,\n",
              " 'oob_score': False,\n",
              " 'random_state': None,\n",
              " 'verbose': 0,\n",
              " 'warm_start': False}"
            ]
          },
          "metadata": {},
          "execution_count": 11
        }
      ]
    },
    {
      "cell_type": "code",
      "source": [
        "hypergrid = {\n",
        "    'rf': {\n",
        "        'randomforestregressor__min_samples_split':[2,4,6],\n",
        "        'randomforestregressor__min_samples_leaf':[1,2,3]\n",
        "    },\n",
        "    'gb':{\n",
        "        'gradientboostingregressor__alpha':[0.001, 0.005, 0.01, 0.05, 0.1, 0.5, 0.99]\n",
        "    },\n",
        "    'ridge':{\n",
        "        'ridge__alpha':[0.001, 0.005, 0.01, 0.05, 0.1, 0.5, 0.99]\n",
        "    },\n",
        "    'lasso':{\n",
        "        'lasso__alpha':[0.001, 0.005, 0.01, 0.05, 0.1, 0.5, 0.99]\n",
        "    },\n",
        "    'enet':{\n",
        "        'elasticnet__alpha':[0.001, 0.005, 0.01, 0.05, 0.1, 0.5, 0.99]\n",
        "    }\n",
        "}"
      ],
      "metadata": {
        "id": "Tl1cHtLY-W77"
      },
      "execution_count": 12,
      "outputs": []
    },
    {
      "cell_type": "code",
      "source": [
        "from sklearn.model_selection import GridSearchCV\n",
        "from sklearn.exceptions import NotFittedError"
      ],
      "metadata": {
        "id": "omXmpwWQ-W4h"
      },
      "execution_count": 13,
      "outputs": []
    },
    {
      "cell_type": "code",
      "source": [
        "fit_models = {}\n",
        "for algo, pipeline in pipelines.items():\n",
        "    model = GridSearchCV(pipeline, hypergrid[algo], cv=10, n_jobs=-1)\n",
        "    try:\n",
        "        print('Starting training for {}.'.format(algo))\n",
        "        model.fit(X_train, y_train)\n",
        "        fit_models[algo] = model\n",
        "        print('{} has been successfully fit.'.format(algo))\n",
        "    except NotFittedError as e:\n",
        "        print(repr(e))"
      ],
      "metadata": {
        "colab": {
          "base_uri": "https://localhost:8080/"
        },
        "id": "ejlP0Pbt-nyI",
        "outputId": "a3b91100-cd41-4360-c5b4-de9f2175b1ca"
      },
      "execution_count": 14,
      "outputs": [
        {
          "output_type": "stream",
          "name": "stdout",
          "text": [
            "Starting training for rf.\n",
            "rf has been successfully fit.\n",
            "Starting training for gb.\n",
            "gb has been successfully fit.\n",
            "Starting training for ridge.\n",
            "ridge has been successfully fit.\n",
            "Starting training for lasso.\n"
          ]
        },
        {
          "output_type": "stream",
          "name": "stderr",
          "text": [
            "/usr/local/lib/python3.7/dist-packages/sklearn/linear_model/_coordinate_descent.py:648: ConvergenceWarning: Objective did not converge. You might want to increase the number of iterations, check the scale of the features or consider increasing regularisation. Duality gap: 6.349e+08, tolerance: 4.326e+08\n",
            "  coef_, l1_reg, l2_reg, X, y, max_iter, tol, rng, random, positive\n"
          ]
        },
        {
          "output_type": "stream",
          "name": "stdout",
          "text": [
            "lasso has been successfully fit.\n",
            "Starting training for enet.\n",
            "enet has been successfully fit.\n"
          ]
        }
      ]
    },
    {
      "cell_type": "code",
      "source": [
        "fit_models['ridge'].predict(X_test)"
      ],
      "metadata": {
        "colab": {
          "base_uri": "https://localhost:8080/"
        },
        "id": "AltNNMAA-nuh",
        "outputId": "be914df6-69ac-4cdf-8570-f0fa57ecadd5"
      },
      "execution_count": 15,
      "outputs": [
        {
          "output_type": "execute_result",
          "data": {
            "text/plain": [
              "array([576437.49270534, 351589.45339699, 603264.1239831 , 302107.23998153,\n",
              "       816690.23564466, 520268.02276023, 617359.92239687, 721290.45824692,\n",
              "       287679.30111438, 349852.53022865, 609729.0965207 , 511161.48521545,\n",
              "       497174.85435365, 362398.86931873, 631570.84517542, 537163.29149635,\n",
              "       537250.33586097, 708646.42101308, 653689.91822318, 927704.92756718,\n",
              "       437964.42993175, 754075.02739446, 333239.02355041, 675156.0407309 ,\n",
              "       955087.24351794, 642340.26549747])"
            ]
          },
          "metadata": {},
          "execution_count": 15
        }
      ]
    },
    {
      "cell_type": "code",
      "source": [
        "from sklearn.metrics import r2_score, mean_absolute_error"
      ],
      "metadata": {
        "id": "chWUqhgaA2Z8"
      },
      "execution_count": 16,
      "outputs": []
    },
    {
      "cell_type": "code",
      "source": [
        "for algo,model in fit_models.items():\n",
        "    yhat = model.predict(X_test)\n",
        "    print('{} scores - R2:{} MAE:{}'.format(algo, r2_score(y_test, yhat), mean_absolute_error(y_test, yhat)))"
      ],
      "metadata": {
        "colab": {
          "base_uri": "https://localhost:8080/"
        },
        "id": "CPKuyfQcA5fD",
        "outputId": "ee52633d-47d4-4545-b5ef-386b8a3b0ab3"
      },
      "execution_count": 17,
      "outputs": [
        {
          "output_type": "stream",
          "name": "stdout",
          "text": [
            "rf scores - R2:-0.09153902623484123 MAE:207908.8337908384\n",
            "gb scores - R2:-0.4189311057233449 MAE:235781.64961994128\n",
            "ridge scores - R2:-0.4448795525807896 MAE:230409.28961321662\n",
            "lasso scores - R2:-0.9858550152881305 MAE:272335.4834787081\n",
            "enet scores - R2:-0.10399271423898004 MAE:215583.44423091097\n"
          ]
        }
      ]
    },
    {
      "cell_type": "code",
      "source": [
        "best_model = fit_models['rf']"
      ],
      "metadata": {
        "id": "oZi-Vop8A7_a"
      },
      "execution_count": 18,
      "outputs": []
    }
  ]
}